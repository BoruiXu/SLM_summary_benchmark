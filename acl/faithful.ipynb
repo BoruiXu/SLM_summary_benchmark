{
 "cells": [
  {
   "cell_type": "code",
   "execution_count": 7,
   "metadata": {},
   "outputs": [],
   "source": [
    "from transformers import AutoTokenizer, AutoModelForSequenceClassification\n",
    "import torch\n",
    "import numpy as np\n",
    "\n",
    "model = AutoModelForSequenceClassification.from_pretrained('vectara/hallucination_evaluation_model')\n",
    "tokenizer = AutoTokenizer.from_pretrained('vectara/hallucination_evaluation_model')\n",
    "\n",
    "pairs = [\n",
    "    [\"Last updated on .From the section Premier League Pep Guardiola hailed Phil Foden as the \\\"best player in the Premier League right now\\\" after his second-half double ensured Manchester City came from behind to beat Manchester United at Etihad Stadium. In a game packed with international stars, it was two local boys who provided the key moments. The visitors had led through Marcus Rashford's sensational eighth-minute strike from 30 yards. However, in a contest City dominated, Foden took centre stage. There was an element of controversy over his second-half equaliser. United boss Erik ten Hag was booked for arguing his side should have had a free-kick in the City half when Rashford went down under Kyle Walker's challenge. Contact was minimal and within seconds Foden had curled a superb shot past Andre Onana. Foden then burst away from a static Casemiro to score City's second from Julian Alvarez's return pass before Erling Haaland rounded off the scoring in stoppage time, after the Norwegian earlier missed an open goal from barely three yards. \\\"It is the amount of games he is playing,\\\" Guardiola told Match of the Day about Foden. \\\"He was always a talented player but now he is more mature and understands more the game, especially defensively. He can play middle, right, make moments and cut inside, play in the left, scoring from the left. \\\"What can I say? He is the best player in the Premier League right now for the amount of things he does. Unbelievable.\\\" It was City's sixth win in seven meetings against United, who suffered their 11th Premier League defeat of the season. More importantly, the result means Pep Guardiola's side move to within a point of leaders Liverpool before next week's trip to Anfield. United remain in sixth in the table but are now 11 points behind fourth-placed Aston Villa and six behind Tottenham, in what could turn out to be a fifth Champions League spot, having played a game more. • None Premier League title race run-in: Will Liverpool, Manchester City or Arsenal come out on top? There was something fitting about Stockport-born Foden becoming the match winner. It seems a long time ago now that Guardiola was having to defend his treatment of a player he was accused of be holding back while contemporary Jadon Sancho was excelling at Borussia Dortmund having decided he would not wait to develop at City. The contrast in current fortunes for the two players could not be more marked, with United outcast Sancho back on loan at Dortmund. Foden's equaliser was City's 600th goal in this stadium under Guardiola and was a sublime effort, curled into the top corner out of Onana's reach after he had run across Victor Lindelof on the right edge of the United box. His second saw him burst into the area from the other side, collect a pass from Julian Alvarez and drill a low shot home, almost through the United keeper, who might have done better. Foden is now picking his moments to get involved in attacks and watching England boss Gareth Southgate must surely find a way of getting the 23-year-old, who has scored 18 goals this season, into his starting line-up at Euro 2024 alongside the likes of Harry Kane and Jude Bellingham. Haaland will have been pleased to get his name on the scoresheet given his incredible first-half miss when he somehow put Foden's knock-back over an open goal from three yards. \\\"He was disappointed, I was disappointed. I want him to score four or five goals every game like he did against Luton [in the FA Cup],\\\" said Guardiola. \\\"But I don't care. He can miss this one, it is the reaction. He is sad for 10 seconds and he can miss five more and is sad for 10 seconds in his mind but after that erase it and on to the next one. \\\"The great, great players I met, and I've been fortunate as a player and especially a manager, they have this incredible ability to forget in an instant. \\\"Tennis players, golf players, basketball players, when they miss, and everyone misses, they say 'OK', smile, be positive and go for the next. That defines the great players and he did it.\\\" • None How did you rate Manchester City's performance? Have your say here • None What did you make of Manchester United's display? Send us your views here Rashford on target but United well beaten In the build-up to the game, Rashford spoke extensively to Players' Tribune, detailing his journey through poverty to United's first team and underlining how much the club means to him. It was thought-provoking stuff and very personal. Yet, for a sizeable number of fans who have viewed Rashford's efforts this season through the prism of underperformance, a lack of goal threat and a body language of indifference, the words meant nothing. For them the general reaction was 'save it for the pitch'. To that end, it is quite possible Rashford will never score a better goal than his eighth-minute opener. Bruno Fernandes did well to hold off Ruben Dias to control Onana's booming kick downfield. Then, as Scott McTominay sprinted into the area, Fernandes had the vision and intelligence to wait for Rashford coming behind. He rolled a pass perfectly to the England striker, who did not have to break stride as he launched a shot into the City net off the underside of the bar. Rashford could easily have had another but, in attempting to control a bouncing ball as Fernandes lifted a pass towards him beyond a static home defence, he succeeded only in heading it into the ground, which allowed Kyle Walker to get back and snuff out the danger. That turned out to be United's last realistic opportunity as they attempted to repel wave after wave of City attacks. Ten Hag simply did not have the personnel to complete the task, as hard as his players tried. New co-owner Sir Jim Ratcliffe has said he wants to knock City off their perch. On this evidence, he is going to need a pretty long ladder to attempt that. • None Attempt missed. Casemiro (Manchester United) header from the centre of the box misses to the right. Assisted by Bruno Fernandes following a set piece situation. • None Substitution, Manchester City. Oscar Bobb replaces Phil Foden because of an injury. • None Goal! Manchester City 3, Manchester United 1. Erling Haaland (Manchester City) left footed shot from the right side of the box to the bottom left corner. Assisted by Rodri. • None Attempt missed. Kevin De Bruyne (Manchester City) right footed shot from outside the box is close, but misses to the right. Assisted by Phil Foden. • None Rodri (Manchester City) wins a free kick on the right wing. • None Goal! Manchester City 2, Manchester United 1. Phil Foden (Manchester City) left footed shot from the left side of the box to the bottom right corner. Assisted by Julián Álvarez. Navigate to the next page Navigate to the last page\",\n",
    "     \"Manchester City's goal was a result of a poor decision by the referee. The referee was not aware of the goal and the referee was not aware of the decision. The referee was not aware of the decision and the referee was not aware of the decision. The referee was not aware of the decision and the referee was not aware of the decision. The referee was not aware of the decision and the referee was not aware of the decision. The referee was not aware of the decision and the referee was not aware of the decision. The referee was not aware of the decision and the referee was not aware of the decision. The referee was not aware of the decision and the referee was not aware of the decision. The referee was not aware of the decision and the referee was not aware of the decision. The referee was not aware of the decision and the referee was not aware of the decision. The referee was not aware of the decision and the referee was not aware of the decision. The referee was not aware of the decision and the referee was not aware of the decision. The referee was not aware of the decision and the referee was not aware of the decision. The referee was not aware of the decision and the referee was not aware of the decision.\"]\n",
    "]\n",
    "\n",
    "# inputs = tokenizer.batch_encode_plus(pairs, return_tensors='pt', padding=True)\n",
    "\n",
    "# model.eval()\n",
    "# with torch.no_grad():\n",
    "#     outputs = model(**inputs)\n",
    "#     logits = outputs.logits.cpu().detach().numpy()\n",
    "#     # convert logits to probabilities\n",
    "#     scores = 1 / (1 + np.exp(-logits)).flatten()\n",
    "# print(scores)"
   ]
  },
  {
   "cell_type": "code",
   "execution_count": 8,
   "metadata": {},
   "outputs": [
    {
     "name": "stdout",
     "output_type": "stream",
     "text": [
      "tensor(0.9966)\n"
     ]
    }
   ],
   "source": [
    "from transformers import AutoTokenizer, AutoModelForSequenceClassification\n",
    "factkb_tokenizer = AutoTokenizer.from_pretrained(\"roberta-base\", padding=\"max_length\", truncation=True)\n",
    "factkb_model = AutoModelForSequenceClassification.from_pretrained(\"bunsenfeng/FactKB\", num_labels=2)\n",
    "\n",
    "def Factkb(refs,preds):\n",
    "    factkb_res = 0\n",
    "    with torch.no_grad():\n",
    "        input_factkb = [[preds, refs]]\n",
    "        factkb_tokens = factkb_tokenizer(input_factkb, return_tensors=\"pt\", padding=\"max_length\", truncation=True).to(factkb_model.device)\n",
    "        factkb_logits = factkb_model(**factkb_tokens).logits\n",
    "        factkb_res = torch.softmax(factkb_logits, dim=1)\n",
    "    return factkb_res[0][1]\n",
    "\n",
    "print(Factkb(pairs[0][0],pairs[0][1]))"
   ]
  }
 ],
 "metadata": {
  "kernelspec": {
   "display_name": "LLM",
   "language": "python",
   "name": "python3"
  },
  "language_info": {
   "codemirror_mode": {
    "name": "ipython",
    "version": 3
   },
   "file_extension": ".py",
   "mimetype": "text/x-python",
   "name": "python",
   "nbconvert_exporter": "python",
   "pygments_lexer": "ipython3",
   "version": "3.11.7"
  },
  "orig_nbformat": 4
 },
 "nbformat": 4,
 "nbformat_minor": 2
}
