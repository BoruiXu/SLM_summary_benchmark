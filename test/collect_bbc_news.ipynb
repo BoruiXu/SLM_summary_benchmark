{
 "cells": [
  {
   "cell_type": "code",
   "execution_count": 1,
   "metadata": {},
   "outputs": [],
   "source": [
    "import pandas as pd\n",
    "import numpy as np\n",
    "import os\n",
    "import json"
   ]
  },
  {
   "cell_type": "code",
   "execution_count": 30,
   "metadata": {},
   "outputs": [],
   "source": [
    "# 指定要遍历的文件夹路径\n",
    "def extract_date(path):\n",
    "    parts = path.split(\"/\")\n",
    "    year = int(parts[-4])\n",
    "    month = int(parts[-3])\n",
    "    day = int(parts[-2])\n",
    "    return (year, month, day)\n",
    "\n",
    "\n",
    "folder_path = '/home/xbr/news-crawler/dataset/bbc/2024/'\n",
    "\n",
    "\n",
    "path_list = []\n",
    "\n",
    "for root, dirs, files in os.walk(folder_path):\n",
    "    if 'articles' in files:\n",
    "        # 如果找到了名为 \"articles\" 的文件，输出它的路径\n",
    "        articles_path = os.path.join(root, 'articles')\n",
    "        path_list.append(articles_path)\n",
    "        \n",
    "        \n",
    "sort_path = (sorted(path_list,key=extract_date))\n",
    "\n",
    "\n",
    "res = []\n",
    "for f in sort_path:\n",
    "    data = json.load(open(f))[\"articles\"]\n",
    "    date = '-'.join(f.split(\"/\")[-4:-1])\n",
    "    \n",
    "    for i in data:\n",
    "        tmp = {}\n",
    "        tmp[\"date\"] = date\n",
    "        tmp[\"article\"] = i[\"content\"]\n",
    "        res.append(tmp)   \n",
    "    \n",
    "#save json\n",
    "# with open('bbc__news_2024.json', 'w') as f:\n",
    "#     json.dump(res, f, indent=4)"
   ]
  },
  {
   "cell_type": "code",
   "execution_count": 31,
   "metadata": {},
   "outputs": [
    {
     "name": "stdout",
     "output_type": "stream",
     "text": [
      "6237\n"
     ]
    }
   ],
   "source": [
    "data = json.load(open('bbc__news_2024.json'))\n",
    "\n",
    "print(len(data))"
   ]
  }
 ],
 "metadata": {
  "kernelspec": {
   "display_name": "LLM",
   "language": "python",
   "name": "python3"
  },
  "language_info": {
   "codemirror_mode": {
    "name": "ipython",
    "version": 3
   },
   "file_extension": ".py",
   "mimetype": "text/x-python",
   "name": "python",
   "nbconvert_exporter": "python",
   "pygments_lexer": "ipython3",
   "version": "3.11.7"
  },
  "orig_nbformat": 4
 },
 "nbformat": 4,
 "nbformat_minor": 2
}
