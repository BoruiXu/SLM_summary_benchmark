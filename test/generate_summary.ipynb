{
 "cells": [
  {
   "cell_type": "code",
   "execution_count": 2,
   "metadata": {},
   "outputs": [],
   "source": [
    "#using Qwen generate summary\n",
    "\n",
    "from datasets import load_dataset\n",
    "\n",
    "import pandas as pd\n",
    "import re\n",
    "from tqdm import tqdm\n",
    "import numpy as np\n",
    "import json\n",
    "# Set OpenAI's API key and API base to use vLLM's API server.\n",
    "from scipy.stats import kendalltau\n",
    "\n",
    "\n",
    "prompt = \"You are a helpful summary assistant. You can help users summarize news in two sentences.\"\n",
    "\n",
    "\n",
    "from openai import OpenAI          \n",
    "openai_api_key = \"EMPTY\"\n",
    "openai_api_base = \"http://localhost:8880/v1\"\n",
    "\n",
    "client = OpenAI(\n",
    "    api_key=openai_api_key,\n",
    "    base_url=openai_api_base,\n",
    ")\n",
    "\n",
    "#load dataset\n",
    "from datasets import load_dataset\n",
    "\n",
    "#/home/xbr/LLM/dataset/summary/sample_dataset\n",
    "#cnndm_sample_0k5_1k5.json  newsroom_sample_0k5_1k5.json  xsum_sample_0k5_1k5.json"
   ]
  },
  {
   "cell_type": "code",
   "execution_count": 7,
   "metadata": {},
   "outputs": [
    {
     "name": "stderr",
     "output_type": "stream",
     "text": [
      "  0%|          | 0/599 [00:00<?, ?it/s]"
     ]
    },
    {
     "name": "stderr",
     "output_type": "stream",
     "text": [
      "100%|██████████| 599/599 [49:18<00:00,  4.94s/it]"
     ]
    },
    {
     "name": "stdout",
     "output_type": "stream",
     "text": [
      "done\n"
     ]
    },
    {
     "name": "stderr",
     "output_type": "stream",
     "text": [
      "\n"
     ]
    }
   ],
   "source": [
    "data = pd.read_json('/home/xbr/LLM/benchmark_llm_summarization/pairwise_evaluation_results.json')\n",
    "data = data.to_dict(orient='records')\n",
    "\n",
    "# news_list = data['text']\n",
    "\n",
    "# summary_list = []\n",
    "   \n",
    "for i in tqdm(range(len(data))):\n",
    "    news = data[i]['article_text']\n",
    "    \n",
    "    chat_response = client.chat.completions.create(\n",
    "        model=\"Qwen/Qwen1.5-72B-Chat\",\n",
    "        messages=[\n",
    "            {\"role\": \"system\", \"content\": prompt},\n",
    "            {\"role\": \"user\", \"content\": \"Summarize the news in two sentences.\\nArticle: \"+news+'\\nSummary: '},\n",
    "            \n",
    "        ],\n",
    "        temperature=0\n",
    "    )\n",
    "    \n",
    "    res = chat_response.choices[0].message.content\n",
    "    \n",
    "    data[i]['qwen_summary'] = res\n",
    "    \n",
    "\n",
    "\n",
    "import json   \n",
    "with open('/home/xbr/LLM/benchmark_llm_summarization/pair_with_qwen.json', 'w') as f:\n",
    "    json.dump(data, f, indent=4)\n",
    "print(\"done\")"
   ]
  },
  {
   "cell_type": "code",
   "execution_count": 3,
   "metadata": {},
   "outputs": [
    {
     "name": "stdout",
     "output_type": "stream",
     "text": [
      "dict_keys(['article', 'summary', 'model', 'faithfulness', 'coherence', 'relevance'])\n"
     ]
    }
   ],
   "source": [
    "#generate qwen summary\n",
    "data = json.load(open('/home/xbr/LLM/benchmark_llm_summarization/likert_evaluation_results_cnndm_average.json'))\n",
    "\n",
    "for i in tqdm(range(len(data))):\n",
    "    news = data[i]['article_text']\n",
    "    \n",
    "    chat_response = client.chat.completions.create(\n",
    "        model=\"Qwen/Qwen1.5-72B-Chat\",\n",
    "        messages=[\n",
    "            {\"role\": \"system\", \"content\": prompt},\n",
    "            {\"role\": \"user\", \"content\": \"Summarize the news in two sentences.\\nArticle: \"+news+'\\nSummary: '},\n",
    "            \n",
    "        ],\n",
    "        temperature=0\n",
    "    )\n",
    "    \n",
    "    res = chat_response.choices[0].message.content\n",
    "    \n",
    "    data[i]['qwen_summary'] = res\n",
    "    \n",
    "#save to json \n",
    "with open('/home/xbr/LLM/benchmark_llm_summarization/likert_evaluation_results_cnndm_average_with_qwen.json', 'w') as f:\n",
    "    json.dump(data, f, indent=4)"
   ]
  }
 ],
 "metadata": {
  "kernelspec": {
   "display_name": "LLM",
   "language": "python",
   "name": "python3"
  },
  "language_info": {
   "codemirror_mode": {
    "name": "ipython",
    "version": 3
   },
   "file_extension": ".py",
   "mimetype": "text/x-python",
   "name": "python",
   "nbconvert_exporter": "python",
   "pygments_lexer": "ipython3",
   "version": "3.11.7"
  },
  "orig_nbformat": 4
 },
 "nbformat": 4,
 "nbformat_minor": 2
}
