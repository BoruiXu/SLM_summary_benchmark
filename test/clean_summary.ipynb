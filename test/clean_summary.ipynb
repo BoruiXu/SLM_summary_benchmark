{
 "cells": [
  {
   "cell_type": "code",
   "execution_count": 2,
   "metadata": {},
   "outputs": [],
   "source": [
    "import json\n",
    "import os\n",
    "import pandas as pd\n",
    "import numpy as np\n",
    "import re"
   ]
  },
  {
   "cell_type": "code",
   "execution_count": 14,
   "metadata": {},
   "outputs": [],
   "source": [
    "path = './data/filter_annotations_summeval_yi34_summary.jsonl'\n",
    "llm_summary = json.load(open(path))\n",
    "\n",
    "def clean_summary(summary):\n",
    "     \n",
    "    summary = summary.strip()\n",
    "    summary = summary.replace('The news summary is: \\\"', '')\n",
    "    summary = summary.split('\\n')[0]\n",
    "    candidate = summary\n",
    "    complete_sentences = re.findall(r'[^.!?]*[.!?]', summary)\n",
    "    # 将匹配到的完整句子连接成一个新的字符串\n",
    "    summary = ' '.join(complete_sentences)\n",
    "    if(summary==''):\n",
    "        summary = candidate\n",
    "    \n",
    "    return summary\n",
    "    \n",
    "    \n",
    "for i in range(len(llm_summary)):\n",
    "    llm_summary[i]['qwen_summary'] = clean_summary(llm_summary[i]['qwen_summary'])\n",
    "\n",
    "with open('./'+path.split('.')[1]+'_cleaning.json', 'w') as f:\n",
    "    json.dump(llm_summary, f, indent=4)\n"
   ]
  }
 ],
 "metadata": {
  "kernelspec": {
   "display_name": "LLM",
   "language": "python",
   "name": "python3"
  },
  "language_info": {
   "codemirror_mode": {
    "name": "ipython",
    "version": 3
   },
   "file_extension": ".py",
   "mimetype": "text/x-python",
   "name": "python",
   "nbconvert_exporter": "python",
   "pygments_lexer": "ipython3",
   "version": "3.11.7"
  },
  "orig_nbformat": 4
 },
 "nbformat": 4,
 "nbformat_minor": 2
}
