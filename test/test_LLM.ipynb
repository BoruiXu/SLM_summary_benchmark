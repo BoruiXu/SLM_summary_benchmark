{
 "cells": [
  {
   "cell_type": "code",
   "execution_count": 2,
   "metadata": {},
   "outputs": [
    {
     "name": "stderr",
     "output_type": "stream",
     "text": [
      "Special tokens have been added in the vocabulary, make sure the associated word embeddings are fine-tuned or trained.\n"
     ]
    },
    {
     "data": {
      "application/vnd.jupyter.widget-view+json": {
       "model_id": "250d46b5153c4a22be8f8b3a186db49e",
       "version_major": 2,
       "version_minor": 0
      },
      "text/plain": [
       "Loading checkpoint shards:   0%|          | 0/2 [00:00<?, ?it/s]"
      ]
     },
     "metadata": {},
     "output_type": "display_data"
    },
    {
     "name": "stdout",
     "output_type": "stream",
     "text": [
      " <nexa_0>('front')<nexa_end>\n",
      "\n",
      "Function description: \n",
      "def take_a_photo(camera):\n",
      "    \"\"\"\n",
      "    Captures a photo using the specified camera and resolution settings.\n",
      "\n",
      "    Parameters:\n",
      "    - camera (str): Specifies the camera to use. Can be 'front' or 'back'. The default is 'back'.\n",
      "\n",
      "    Returns:\n",
      "    - str: The string contains the file path of the captured photo if successful, or an error message if not. Example: '/storage/emulated/0/Pictures/MyApp/IMG_20240310_123456.jpg'\n",
      "    \"\"\"\n",
      "<eos>\n",
      "latency: 19.067562580108643  s\n"
     ]
    }
   ],
   "source": [
    "from transformers import AutoTokenizer, GemmaForCausalLM\n",
    "import torch\n",
    "import time\n",
    "import os\n",
    "os.environ[\"CUDA_VISIBLE_DEVICES\"] = \"2\"\n",
    "# torch.cuda.set_device(2)\n",
    "def inference(input_text):\n",
    "    start_time = time.time()\n",
    "    input_ids = tokenizer(input_text, return_tensors=\"pt\").to(model.device)\n",
    "    input_length = input_ids[\"input_ids\"].shape[1]\n",
    "    outputs = model.generate(\n",
    "        input_ids=input_ids[\"input_ids\"], \n",
    "        max_length=1024,\n",
    "        do_sample=False)\n",
    "    generated_sequence = outputs[:, input_length:].tolist()\n",
    "    res = tokenizer.decode(generated_sequence[0])\n",
    "    end_time = time.time()\n",
    "    print(res)\n",
    "    return {\"output\": res, \"latency\": end_time - start_time}\n",
    "\n",
    "model_id = \"NexaAIDev/Octopus-v2\"\n",
    "tokenizer = AutoTokenizer.from_pretrained(model_id)\n",
    "model = GemmaForCausalLM.from_pretrained(\n",
    "    model_id, torch_dtype=torch.bfloat16,\n",
    ")\n",
    "\n",
    "input_text = \"Take a selfie for me with front camera\"\n",
    "nexa_query = f\"Below is the query from the users, please call the correct function and generate the parameters to call the function.\\n\\nQuery: {input_text} \\n\\nResponse:\"\n",
    "start_time = time.time()\n",
    "inference(nexa_query)\n",
    "# print(\"nexa model result:\\n\", inference(nexa_query))\n",
    "print(\"latency:\", time.time() - start_time,\" s\")\n"
   ]
  }
 ],
 "metadata": {
  "kernelspec": {
   "display_name": "LLM",
   "language": "python",
   "name": "python3"
  },
  "language_info": {
   "codemirror_mode": {
    "name": "ipython",
    "version": 3
   },
   "file_extension": ".py",
   "mimetype": "text/x-python",
   "name": "python",
   "nbconvert_exporter": "python",
   "pygments_lexer": "ipython3",
   "version": "3.11.7"
  },
  "orig_nbformat": 4
 },
 "nbformat": 4,
 "nbformat_minor": 2
}
