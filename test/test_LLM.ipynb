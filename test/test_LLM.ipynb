{
 "cells": [
  {
   "cell_type": "code",
   "execution_count": 2,
   "metadata": {},
   "outputs": [
    {
     "name": "stderr",
     "output_type": "stream",
     "text": [
      "Special tokens have been added in the vocabulary, make sure the associated word embeddings are fine-tuned or trained.\n"
     ]
    },
    {
     "data": {
      "application/vnd.jupyter.widget-view+json": {
       "model_id": "250d46b5153c4a22be8f8b3a186db49e",
       "version_major": 2,
       "version_minor": 0
      },
      "text/plain": [
       "Loading checkpoint shards:   0%|          | 0/2 [00:00<?, ?it/s]"
      ]
     },
     "metadata": {},
     "output_type": "display_data"
    },
    {
     "name": "stdout",
     "output_type": "stream",
     "text": [
      " <nexa_0>('front')<nexa_end>\n",
      "\n",
      "Function description: \n",
      "def take_a_photo(camera):\n",
      "    \"\"\"\n",
      "    Captures a photo using the specified camera and resolution settings.\n",
      "\n",
      "    Parameters:\n",
      "    - camera (str): Specifies the camera to use. Can be 'front' or 'back'. The default is 'back'.\n",
      "\n",
      "    Returns:\n",
      "    - str: The string contains the file path of the captured photo if successful, or an error message if not. Example: '/storage/emulated/0/Pictures/MyApp/IMG_20240310_123456.jpg'\n",
      "    \"\"\"\n",
      "<eos>\n",
      "latency: 19.067562580108643  s\n"
     ]
    }
   ],
   "source": [
    "from transformers import AutoTokenizer, GemmaForCausalLM\n",
    "import torch\n",
    "import time\n",
    "import os\n",
    "os.environ[\"CUDA_VISIBLE_DEVICES\"] = \"2\"\n",
    "# torch.cuda.set_device(2)\n",
    "def inference(input_text):\n",
    "    start_time = time.time()\n",
    "    input_ids = tokenizer(input_text, return_tensors=\"pt\").to(model.device)\n",
    "    input_length = input_ids[\"input_ids\"].shape[1]\n",
    "    outputs = model.generate(\n",
    "        input_ids=input_ids[\"input_ids\"], \n",
    "        max_length=1024,\n",
    "        do_sample=False)\n",
    "    generated_sequence = outputs[:, input_length:].tolist()\n",
    "    res = tokenizer.decode(generated_sequence[0])\n",
    "    end_time = time.time()\n",
    "    print(res)\n",
    "    return {\"output\": res, \"latency\": end_time - start_time}\n",
    "\n",
    "model_id = \"NexaAIDev/Octopus-v2\"\n",
    "tokenizer = AutoTokenizer.from_pretrained(model_id)\n",
    "model = GemmaForCausalLM.from_pretrained(\n",
    "    model_id, torch_dtype=torch.bfloat16,\n",
    ")\n",
    "\n",
    "input_text = \"Take a selfie for me with front camera\"\n",
    "nexa_query = f\"Below is the query from the users, please call the correct function and generate the parameters to call the function.\\n\\nQuery: {input_text} \\n\\nResponse:\"\n",
    "start_time = time.time()\n",
    "inference(nexa_query)\n",
    "# print(\"nexa model result:\\n\", inference(nexa_query))\n",
    "print(\"latency:\", time.time() - start_time,\" s\")\n"
   ]
  },
  {
   "cell_type": "code",
   "execution_count": 4,
   "metadata": {},
   "outputs": [
    {
     "data": {
      "application/vnd.jupyter.widget-view+json": {
       "model_id": "04c568139df4456f8f0e3918be396a47",
       "version_major": 2,
       "version_minor": 0
      },
      "text/plain": [
       "Loading checkpoint shards:   0%|          | 0/2 [00:00<?, ?it/s]"
      ]
     },
     "metadata": {},
     "output_type": "display_data"
    },
    {
     "name": "stdout",
     "output_type": "stream",
     "text": [
      "<bos>News: Two soldiers, one a Buckingham Palace guard, walked free from court yesterday despite inflicting a shocking beating on a helpless civilian. During the drunken attack, which was caught on CCTV, Scots Guard Shaun Smith, 25, can be seen stamping 18 times on his victim’s head. His fellow soldier, Welsh Guard Jason Collins, 22, rained blows with his fists on to the man’s body. Scroll down for video . CCTV cameras captured the horrifying attack last April in which soldiers Shaun Smith (left, in black jeans) and Jason Collins (right, bending over), kicked and punched two men repeatedly near their barracks . Collins, 22, (right) has been stationed at Buckingham Palace since the attack. Smith (left), was described as an 'angel' in court by his officer . The soldiers were expected to be jailed for the ‘deeply unpleasant and inexcusable’ assault. But yesterday a judge at Teesside Crown Court made what even he admitted was an ‘extraordinary’ decision to let the men walk free. Judge James Hill, QC, said he had decided to show mercy after hearing glowing tributes and being told the Army was keen to keep them. ‘I state in open court that what I have done is entirely exceptional,’ he said. ‘I can’t say what the Army will do but I simply express the hope, as your commanding officers have expressed, that the Army feels able to keep you.’ The furious victim James Wormald – who was left with the imprint of Smith’s shoe on his forehead – said it was wrong that the pair had got off so lightly and that there was no excuse for what had happened. ‘There was absolutely no reason for the attack,’ he said. ‘To stamp on someone that many times and get away with only being sentenced for actual bodily harm is wrong. With one of their victims motionless on the ground the pair begin to chase the second across the main road near their barracks at Catterick Garrison in North Yorkshire . Reaching for his neck, Collins tries to grab the man before the pair chase him round a tree and back onto the road . After dragging the man onto the ground Collins is seen raising his fists and punching him repeatedly in the face . The pair earlier claimed they had been followed out of a nightclub by the victims who threatened to stab them. A judge rejected their version of events, saying the man seen in the footage (above) posed 'no threat' when they were beating him . ‘I don’t know how I escaped that without really serious injuries, the force they used could have killed me and I really expected them to go to jail for it.’ Both men were cleared by a jury of grievous bodily harm but admitted causing actual bodily harm. Smith was given a 12-month suspended jail sentence and ordered to do 80 hours of unpaid work. Collins was given a 12-month community order, and both men were each told to pay £1,000 compensation. The maximum penalty for a single count of occasioning actual bodily harm is five years imprisonment according to the Crown Prosecution Service's sentencing guidelines. With both Smith and Collins found guilty of two counts each, the soldiers could have faced sentences of ten years. Instead they both walked free from court in what even the judge in the case described as 'exceptional'. In the most lenient circumstances a sentence of one year in custody is advised. Smith was given a 12 month sentence suspended, while Collins received a 12-month community order. The pair launched the vicious attack after a night’s heavy drinking near Catterick Garrison in North Yorkshire last April. They matched each other drink for drink in bars and each downed six beers and 15 shots. They encountered local men Mr Wormald, 25, and his friend Mark Thompson after leaving a bar at 3.30am and there was an exchange of words. Collins and Smith claimed the two men had threatened to stab them – a claim strongly denied by Mr Wormald, a chef. The court was shown video of Collins knocking Mr Thompson out cold with a single punch before he and Smith set upon Mr Wormald. Their victim runs across a road, trips and falls. Smith, who has a hood covering his face, can be seen bringing his foot down over and over on his victim’s head while Collins relentlessly pummels Mr Wormald’s body. The pair then ran off and hid in a stream, but were caught by the police. Mr Wormald had severe bruising to his face. Collins is highly regarded by the Welsh Guards and has been entrusted to stand guard at both Buckingham Palace and St James’s Palace since the incident. He is likely to keep his job. Scots Guard Smith was also of previous good character. Richard Herrmann, defending him, said: ‘But for that night this man is an angel, but on that night he was a devil.’ Captain James Dyson said Smith had ‘picked himself up’ since and ‘is proving to be one of the best performing people in his platoon’. Outside court Detective Constable Andy Palmer said: ‘This is the most violent piece of CCTV footage I have seen in ten years as a police officer and it is extremely fortunate the victims were not more seriously injured. This case highlights the horrors of alcohol-fuelled violence.’\n",
      "Summarize the news in two sentences. Summary:\n",
      "\n",
      "Two soldiers, Shaun Smith and Jason Collins, were found not guilty of causing actual bodily harm after a drunken attack near Catterick Garrison in North Yorkshire. The judge ruled that the soldiers' actions were \"extraordinary\" and decided to show mercy due to glowing tributes and the Army's willingness to keep them.<eos>\n"
     ]
    }
   ],
   "source": [
    "# pip install accelerate\n",
    "from transformers import AutoTokenizer, AutoModelForCausalLM\n",
    "import torch\n",
    "import os\n",
    "os.environ[\"CUDA_VISIBLE_DEVICES\"] = \"2\"\n",
    "\n",
    "tokenizer = AutoTokenizer.from_pretrained(\"google/gemma-1.1-2b-it\")\n",
    "model = AutoModelForCausalLM.from_pretrained(\n",
    "    \"google/gemma-1.1-2b-it\",\n",
    "    device_map=\"auto\",\n",
    "    torch_dtype=torch.bfloat16\n",
    ")\n",
    "\n",
    "input_text = \"News: Two soldiers, one a Buckingham Palace guard, walked free from court yesterday despite inflicting a shocking beating on a helpless civilian. During the drunken attack, which was caught on CCTV, Scots Guard Shaun Smith, 25, can be seen stamping 18 times on his victim\\u2019s head. His fellow soldier, Welsh Guard Jason Collins, 22, rained blows with his fists on to the man\\u2019s body. Scroll down for video . CCTV cameras captured the horrifying attack last April in which soldiers Shaun Smith (left, in black jeans) and Jason Collins (right, bending over), kicked and punched two men repeatedly near their barracks . Collins, 22, (right) has been stationed at Buckingham Palace since the attack. Smith (left), was described as an 'angel' in court by his officer . The soldiers were expected to be jailed for the \\u2018deeply unpleasant and inexcusable\\u2019 assault. But yesterday a judge at Teesside Crown Court made what even he admitted was an \\u2018extraordinary\\u2019 decision to let the men walk free. Judge James Hill, QC, said he had decided to show mercy after hearing glowing tributes and being told the Army was keen to keep them. \\u2018I state in open court that what I have done is entirely exceptional,\\u2019 he said. \\u2018I can\\u2019t say what the Army will do but I simply express the hope, as your commanding officers have expressed, that the Army feels able to keep you.\\u2019 The furious victim James Wormald \\u2013 who was left with the imprint of Smith\\u2019s shoe on his forehead \\u2013 said it was wrong that the pair had got off so lightly and that there was no excuse for what had happened. \\u2018There was absolutely no reason for the attack,\\u2019 he said. \\u2018To stamp on someone that many times and get away with only being sentenced for actual bodily harm is wrong. With one of their victims motionless on the ground the pair begin to chase the second across the main road near their barracks at Catterick Garrison in North Yorkshire . Reaching for his neck, Collins tries to grab the man before the pair chase him round a tree and back onto the road . After dragging the man onto the ground Collins is seen raising his fists and punching him repeatedly in the face . The pair earlier claimed they had been followed out of a nightclub by the victims who threatened to stab them. A judge rejected their version of events, saying the man seen in the footage (above) posed 'no threat' when they were beating him . \\u2018I don\\u2019t know how I escaped that without really serious injuries, the force they used could have killed me and I really expected them to go to jail for it.\\u2019 Both men were cleared by a jury of grievous bodily harm but admitted causing actual bodily harm. Smith was given a 12-month suspended jail sentence and ordered to do 80 hours of unpaid work. Collins was given a 12-month community order, and both men were each told to pay \\u00a31,000 compensation. The maximum penalty for a single count of occasioning actual bodily harm is five years imprisonment according to the Crown Prosecution Service's sentencing guidelines. With both Smith and Collins found guilty of two counts each, the soldiers could have faced sentences of ten years. Instead they both walked free from court in what even the judge in the case described as 'exceptional'. In the most lenient circumstances a sentence of one year in custody is advised. Smith was given a 12 month sentence suspended, while Collins received a 12-month community order. The pair launched the vicious attack after a night\\u2019s heavy drinking near Catterick Garrison in North Yorkshire last April. They matched each other drink for drink in bars and each downed six beers and 15 shots. They encountered local men Mr Wormald, 25, and his friend Mark Thompson after leaving a bar at 3.30am and there was an exchange of words. Collins and Smith claimed the two men had threatened to stab them \\u2013 a claim strongly denied by Mr Wormald, a chef. The court was shown video of Collins knocking Mr Thompson out cold with a single punch before he and Smith set upon Mr Wormald. Their victim runs across a road, trips and falls. Smith, who has a hood covering his face, can be seen bringing his foot down over and over on his victim\\u2019s head while Collins relentlessly pummels Mr Wormald\\u2019s body. The pair then ran off and hid in a stream, but were caught by the police. Mr Wormald had severe bruising to his face. Collins is highly regarded by the Welsh Guards and has been entrusted to stand guard at both Buckingham Palace and St James\\u2019s Palace since the incident. He is likely to keep his job. Scots Guard Smith was also of previous good character. Richard Herrmann, defending him, said: \\u2018But for that night this man is an angel, but on that night he was a devil.\\u2019 Captain James Dyson said Smith had \\u2018picked himself up\\u2019 since and \\u2018is proving to be one of the best performing people in his platoon\\u2019. Outside court Detective Constable Andy Palmer said: \\u2018This is the most violent piece of CCTV footage I have seen in ten years as a police officer and it is extremely fortunate the victims were not more seriously injured. This case highlights the horrors of alcohol-fuelled violence.\\u2019\\nSummarize the news in two sentences. Summary:\"\n",
    "input_ids = tokenizer(input_text, return_tensors=\"pt\").to(\"cuda\")\n",
    "\n",
    "outputs = model.generate(**input_ids,max_length=2048, do_sample=False)\n",
    "print(tokenizer.decode(outputs[0]))\n"
   ]
  }
 ],
 "metadata": {
  "kernelspec": {
   "display_name": "LLM",
   "language": "python",
   "name": "python3"
  },
  "language_info": {
   "codemirror_mode": {
    "name": "ipython",
    "version": 3
   },
   "file_extension": ".py",
   "mimetype": "text/x-python",
   "name": "python",
   "nbconvert_exporter": "python",
   "pygments_lexer": "ipython3",
   "version": "3.11.7"
  },
  "orig_nbformat": 4
 },
 "nbformat": 4,
 "nbformat_minor": 2
}
