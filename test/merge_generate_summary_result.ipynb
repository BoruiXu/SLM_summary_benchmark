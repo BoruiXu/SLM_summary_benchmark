{
 "cells": [
  {
   "cell_type": "code",
   "execution_count": 35,
   "metadata": {},
   "outputs": [],
   "source": [
    "#merge all generated summary files into one file, and classify by the keys\n",
    "#one piece data contains the following\n",
    "#article, reference summary, generated summary, intput_text, LLM_score, aotomatic score, model,chat_template\n",
    "import pandas as pd\n",
    "import re\n",
    "import json\n",
    "import os\n",
    "\n",
    "#get the model name from the file name\n",
    "def get_model_name(f):\n",
    "    chat_template = False\n",
    "    if('chat-template' in f):\n",
    "        chat_template = True\n",
    "    f = f.split('.jsonl')[0]\n",
    "    f = f.split(',')[0]\n",
    "    f = f.split('__')\n",
    "    f[2] = f[2].split('_cnndm')[0]\n",
    "    model_name = f[1]+'/'+f[2]\n",
    "    return model_name, chat_template"
   ]
  },
  {
   "cell_type": "code",
   "execution_count": 38,
   "metadata": {},
   "outputs": [
    {
     "name": "stdout",
     "output_type": "stream",
     "text": [
      "Qwen/Qwen1.5-7B-Chat\n",
      "venkycs/phi-2-instruct\n",
      "mistralai/Mistral-7B-v0.1\n",
      "internlm/internlm2-chat-1_8b\n",
      "internlm/internlm2-1_8b\n",
      "Qwen/Qwen1.5-7B-Chat\n",
      "openbmb/MiniCPM-2B-sft-bf16\n",
      "microsoft/phi-2\n",
      "done\n"
     ]
    }
   ],
   "source": [
    "# data = json.load(open('/home/xbr/LLM/lm-evaluation-harness/summary_benchmark/0shot/cnndm/pretrained__internlm__internlm2-1_8b,trust_remote_code__True_cnndm.jsonl'))\n",
    "# print(len(data))\n",
    "\n",
    "folder_path = '/home/xbr/LLM/lm-evaluation-harness/summary_benchmark/0shot/cnndm'\n",
    "files = os.listdir(folder_path)\n",
    "# 匹配以\"pretrained\"开头的文件\n",
    "pretrained_files = [file for file in files if file.startswith('pretrained')]\n",
    "\n",
    "# target_file = json.load(open('./LLM_generated_result/cnndm/0shot/cnndm.jsonl'))\n",
    "target_dict = {}\n",
    "\n",
    "for file in pretrained_files:\n",
    "    model_name,chat_template = get_model_name(file)\n",
    "    data = json.load(open(folder_path+'/'+pretrained_files[0]))\n",
    "    tmp_list = []\n",
    "\n",
    "    for d in data:\n",
    "        tmp_dic = {}\n",
    "        tmp_dic['article'] = d['doc']['article']\n",
    "        tmp_dic['reference summary'] = d['target']\n",
    "        tmp_dic['intput_arguments'] = d['arguments']\n",
    "        tmp_dic['generated summary'] = d['filtered_resps']\n",
    "        tmp_dic['model'] = model_name\n",
    "        tmp_dic['chat_template'] = chat_template\n",
    "        tmp_dic['LLM_score'] = {}\n",
    "        tmp_dic['automatic_score'] = {'rougeL':d['rougeL'],'bertscore_f1':d['bertscore_f1'],'factKB':d['factKB']}\n",
    "        tmp_list.append(tmp_dic)\n",
    "    target_dict[model_name] = tmp_list\n",
    "# save to json\n",
    "with open('./LLM_generated_result/cnndm/0shot/cnndm.jsonl','a+') as f:\n",
    "    json.dump(target_dict,f,indent=4)\n",
    "print('done')\n",
    "    \n",
    "    \n",
    "    \n",
    "\n",
    "\n",
    "    \n",
    "    "
   ]
  }
 ],
 "metadata": {
  "kernelspec": {
   "display_name": "LLM",
   "language": "python",
   "name": "python3"
  },
  "language_info": {
   "codemirror_mode": {
    "name": "ipython",
    "version": 3
   },
   "file_extension": ".py",
   "mimetype": "text/x-python",
   "name": "python",
   "nbconvert_exporter": "python",
   "pygments_lexer": "ipython3",
   "version": "3.11.7"
  },
  "orig_nbformat": 4
 },
 "nbformat": 4,
 "nbformat_minor": 2
}
