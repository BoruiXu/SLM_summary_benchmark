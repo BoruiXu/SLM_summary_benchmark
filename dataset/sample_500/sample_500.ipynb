{
 "cells": [
  {
   "cell_type": "code",
   "execution_count": 13,
   "metadata": {},
   "outputs": [
    {
     "name": "stdout",
     "output_type": "stream",
     "text": [
      "done!\n"
     ]
    }
   ],
   "source": [
    "#sample instance number to 500\n",
    "import json\n",
    "import pandas as pd\n",
    "import numpy as np\n",
    "np.random.seed(2024)\n",
    "dataset_list = ['cnndm','xsum','newsroom','bbc2024']\n",
    "\n",
    "#sampe and cleaning\n",
    "\n",
    "\n",
    "data_path = '../sample_dataset/'+dataset_list[0]+'_sample_0k5_1k5.json'\n",
    "data = pd.read_json(data_path)\n",
    "random_sample = data.sample(n=500)\n",
    "data_list = random_sample.to_dict(orient='records')\n",
    "tmp_list = []\n",
    "for i in range(len(data_list)):\n",
    "    tmp_dict = {}\n",
    "    tmp_dict['article'] = data_list[i]['article']\n",
    "    tmp_dict['original_reference_summary'] = data_list[i]['highlights']\n",
    "    tmp_dict['id'] = data_list[i]['id']\n",
    "    tmp_list.append(tmp_dict)\n",
    "#save to jsonl\n",
    "with open(dataset_list[0]+'_sample_500_0k5_1k5.jsonl', 'w') as f:\n",
    "    json.dump(tmp_list, f, indent=4)\n",
    "print('done!')\n"
   ]
  },
  {
   "cell_type": "code",
   "execution_count": 14,
   "metadata": {},
   "outputs": [
    {
     "name": "stdout",
     "output_type": "stream",
     "text": [
      "done!\n"
     ]
    }
   ],
   "source": [
    "data_path = '../sample_dataset/'+dataset_list[1]+'_sample_0k5_1k5.json'\n",
    "data = pd.read_json(data_path)\n",
    "random_sample = data.sample(n=500)\n",
    "data_list = random_sample.to_dict(orient='records')\n",
    "tmp_list = []\n",
    "for i in range(len(data_list)):\n",
    "    tmp_dict = {}\n",
    "    tmp_dict['article'] = data_list[i]['document'].replace('\\n',' ')\n",
    "    tmp_dict['original_reference_summary'] = data_list[i]['summary']\n",
    "    tmp_list.append(tmp_dict)\n",
    "    \n",
    "#save to jsonl\n",
    "with open(dataset_list[1]+'_sample_500_0k5_1k5.jsonl', 'w') as f:\n",
    "    json.dump(tmp_list, f, indent=4)\n",
    "print('done!')"
   ]
  },
  {
   "cell_type": "code",
   "execution_count": 15,
   "metadata": {},
   "outputs": [
    {
     "name": "stdout",
     "output_type": "stream",
     "text": [
      "done!\n"
     ]
    }
   ],
   "source": [
    "data_path = '../sample_dataset/'+dataset_list[2]+'_sample_0k5_1k5.json'\n",
    "data = pd.read_json(data_path)\n",
    "random_sample = data.sample(n=500)\n",
    "data_list = random_sample.to_dict(orient='records')\n",
    "tmp_list = []\n",
    "for i in range(len(data_list)):\n",
    "    tmp_dict = {}\n",
    "    tmp_dict['article'] = data_list[i]['text'].replace('\\n\\n',' ')\n",
    "    tmp_dict['article'] = tmp_dict['article'].replace('\\n',' ')\n",
    "    tmp_dict['original_reference_summary'] = data_list[i]['summary']\n",
    "    tmp_dict['title'] = data_list[i]['title']\n",
    "    tmp_dict['url'] = data_list[i]['url']\n",
    "    tmp_list.append(tmp_dict)\n",
    "    \n",
    "#save to jsonl\n",
    "with open(dataset_list[2]+'_sample_500_0k5_1k5.jsonl', 'w') as f:\n",
    "    json.dump(tmp_list, f, indent=4)\n",
    "print('done!')"
   ]
  },
  {
   "cell_type": "code",
   "execution_count": 16,
   "metadata": {},
   "outputs": [
    {
     "name": "stdout",
     "output_type": "stream",
     "text": [
      "done!\n"
     ]
    }
   ],
   "source": [
    "data_path = '../sample_dataset/'+dataset_list[3]+'_sample_0k5_1k5.json'\n",
    "data = pd.read_json(data_path)\n",
    "random_sample = data.sample(n=500)\n",
    "data_list = random_sample.to_dict(orient='records')\n",
    "tmp_list = []\n",
    "for i in range(len(data_list)):\n",
    "    tmp_dict = {}\n",
    "    tmp_dict['article'] = data_list[i]['article'].replace('\\n\\n',' ')\n",
    "    tmp_dict['article'] = tmp_dict['article'].replace('\\n',' ')\n",
    "    # tmp_dict['date'] = data_list[i]['date']\n",
    "    tmp_list.append(tmp_dict)\n",
    "    \n",
    "#save to jsonl\n",
    "with open(dataset_list[3]+'_sample_500_0k5_1k5.jsonl', 'w') as f:\n",
    "    json.dump(tmp_list, f, indent=4)\n",
    "print('done!')"
   ]
  },
  {
   "cell_type": "code",
   "execution_count": null,
   "metadata": {},
   "outputs": [],
   "source": []
  }
 ],
 "metadata": {
  "kernelspec": {
   "display_name": "LLM",
   "language": "python",
   "name": "python3"
  },
  "language_info": {
   "codemirror_mode": {
    "name": "ipython",
    "version": 3
   },
   "file_extension": ".py",
   "mimetype": "text/x-python",
   "name": "python",
   "nbconvert_exporter": "python",
   "pygments_lexer": "ipython3",
   "version": "3.11.7"
  },
  "orig_nbformat": 4
 },
 "nbformat": 4,
 "nbformat_minor": 2
}
